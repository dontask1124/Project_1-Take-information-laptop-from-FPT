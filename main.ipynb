{
 "cells": [
  {
   "cell_type": "code",
   "execution_count": 34,
   "metadata": {},
   "outputs": [
    {
     "name": "stdout",
     "output_type": "stream",
     "text": [
      "done_import\n"
     ]
    }
   ],
   "source": [
    "from selenium import webdriver\n",
    "from selenium.webdriver.common.keys import Keys\n",
    "from bs4 import BeautifulSoup\n",
    "from time import sleep\n",
    "import csv\n",
    "from selenium.webdriver.chrome.service import Service\n",
    "from webdriver_manager.chrome import ChromeDriverManager\n",
    "from selenium.webdriver.common.by import By\n",
    "\n",
    "print(\"done_import\")"
   ]
  },
  {
   "cell_type": "code",
   "execution_count": 35,
   "metadata": {},
   "outputs": [
    {
     "name": "stderr",
     "output_type": "stream",
     "text": [
      "C:\\Users\\mynam\\AppData\\Local\\Temp\\ipykernel_1820\\1156039173.py:1: DeprecationWarning: executable_path has been deprecated, please pass in a Service object\n",
      "  driver = webdriver.Chrome(\"C:/webdrivers/chromedriver.exe\")\n"
     ]
    },
    {
     "name": "stdout",
     "output_type": "stream",
     "text": [
      "Done open browser\n"
     ]
    }
   ],
   "source": [
    "driver = webdriver.Chrome(\"C:/webdrivers/chromedriver.exe\")\n",
    "driver.get(\"https://fptshop.com.vn/may-tinh-xach-tay\")\n",
    "print(\"Done open browser\")"
   ]
  },
  {
   "cell_type": "code",
   "execution_count": 36,
   "metadata": {
    "scrolled": true
   },
   "outputs": [
    {
     "name": "stdout",
     "output_type": "stream",
     "text": [
      "Done_Load\n"
     ]
    }
   ],
   "source": [
    "try:\n",
    "    for i in range(50):\n",
    "        button_xem_them = driver.find_element(By.XPATH, \"/html/body/div[2]/main/div/div[3]/div[2]/div[3]/div/div[3]/a\")\n",
    "        button_xem_them.click()\n",
    "        sleep(2)\n",
    "except:\n",
    "    print(\"Done_Load\")\n"
   ]
  },
  {
   "cell_type": "code",
   "execution_count": 37,
   "metadata": {},
   "outputs": [
    {
     "name": "stdout",
     "output_type": "stream",
     "text": [
      "Số lương máy có thể lấy: 214\n"
     ]
    }
   ],
   "source": [
    "\n",
    "computer = driver.find_elements(By.CLASS_NAME,\"cdt-product__name\")\n",
    "link_San_Pham = [i.get_attribute(\"href\") for i in computer]\n",
    "print(\"Số lương máy có thể lấy:\",len(link_San_Pham))\n"
   ]
  },
  {
   "cell_type": "code",
   "execution_count": 38,
   "metadata": {},
   "outputs": [],
   "source": [
    "def Lay_Ten_Laptop(ten_Laptop):\n",
    "    ten = ten_Laptop.split(\"/\")\n",
    "    return ten[0]\n",
    "\n",
    "def loc_Man_Hinh(man_Hinh):\n",
    "    ts_Man_Hinh = man_Hinh.split(\",\")\n",
    "    so_inch = ts_Man_Hinh[0][9:19]\n",
    "    do_Phan_Giai = ts_Man_Hinh[1][:ts_Man_Hinh[1].find(\"Pixels\")+len(\"Pixels\")]\n",
    "    loai_Man_Hinh = ts_Man_Hinh[2]\n",
    "    khac_Man_Hinh = ts_Man_Hinh[3:]\n",
    "    ts_MH_LOC =[so_inch, do_Phan_Giai, loai_Man_Hinh, khac_Man_Hinh]\n",
    "    return ts_MH_LOC\n",
    "\n",
    "def loc_CPU(CPU):\n",
    "    ts_CPU =CPU.split(\",\")\n",
    "    hang_CPU = ts_CPU[0][4:]\n",
    "    \n",
    "    if \"AMD\" in hang_CPU:\n",
    "        dong_CPU = ts_CPU[1][1:]\n",
    "    else:\n",
    "        dong_CPU = ts_CPU[1][5:]\n",
    "        \n",
    "    loai_CPU = ts_CPU[2]\n",
    "    ts_CPU_LOC = [hang_CPU, dong_CPU, loai_CPU]\n",
    "    return ts_CPU_LOC\n",
    "\n",
    "def loc_RAM(RAM):\n",
    "    ts_RAM = RAM.split(\",\")\n",
    "    dung_Luong_RAM = ts_RAM[0][4:9]\n",
    "    loai_RAM = ts_RAM[1]\n",
    "    so_Bus_RAM = ts_RAM[2]\n",
    "    ts_RAM_LOC = [dung_Luong_RAM, loai_RAM, so_Bus_RAM]\n",
    "    return ts_RAM_LOC\n",
    "\n",
    "def lay_Tinh_Nang_Laptop(tinh_nang_Laptop, ten_Laptop,gia_Laptop):\n",
    "    ten = ten_Laptop.split(\"/\")\n",
    "    tinh_nang = tinh_nang_Laptop.split(\"\\n\")\n",
    "    \n",
    "    ts_Man_Hinh_LOC= loc_Man_Hinh(tinh_nang[0])\n",
    "    ts_CPU_LOC = loc_CPU(tinh_nang[1])\n",
    "    ts_RAM_LOC = loc_RAM(tinh_nang[2])\n",
    "    ts_O_Cung= tinh_nang[3][7:]\n",
    "    if \"Đồ họa\" in tinh_nang[4]:\n",
    "        ts_Card_Do_Hoa = tinh_nang[4][7:]\n",
    "        ts_HDH = tinh_nang[5][13:]\n",
    "        trong_Luong = tinh_nang[6][12:]\n",
    "        xuat_Xu = tinh_nang[8][8:]\n",
    "    else:\n",
    "        ts_Card_Do_Hoa = \"\"\n",
    "        ts_HDH = tinh_nang[4][13:]\n",
    "        trong_Luong = tinh_nang[5][12:]\n",
    "        xuat_Xu = tinh_nang[7][8:]\n",
    "    noi_Ban =\"FPT\"\n",
    "    ts_Laptop_LOC = [ten[0],gia_Laptop, ts_Man_Hinh_LOC, ts_CPU_LOC, ts_RAM_LOC,ts_O_Cung,\n",
    "                     ts_Card_Do_Hoa,ts_HDH,trong_Luong,xuat_Xu,noi_Ban]\n",
    "    return ts_Laptop_LOC\n",
    "\n",
    "\n",
    "\n",
    "    \n"
   ]
  },
  {
   "cell_type": "code",
   "execution_count": 24,
   "metadata": {},
   "outputs": [],
   "source": [
    "driver.get(link_San_Pham[20])   \n"
   ]
  },
  {
   "cell_type": "code",
   "execution_count": 31,
   "metadata": {},
   "outputs": [
    {
     "name": "stdout",
     "output_type": "stream",
     "text": [
      "Ổ cứng SSD 512 GB\n"
     ]
    }
   ],
   "source": [
    "tinh_nang_LapTop = driver.find_element(By.CLASS_NAME, \"st-pd-table\").text\n",
    "tinh_Nang_Split = tinh_nang_LapTop.split('\\n')\n",
    "# print(loc_Man_Hinh(tinh_Nang_Split[0]))\n",
    "\n",
    "\n",
    "print(tinh_Nang_Split[3])"
   ]
  },
  {
   "cell_type": "code",
   "execution_count": 39,
   "metadata": {
    "scrolled": true
   },
   "outputs": [
    {
     "name": "stdout",
     "output_type": "stream",
     "text": [
      "lỗi: 1\n",
      "lỗi: 2\n",
      "lỗi: 3\n",
      "lỗi: 4\n",
      "lỗi: 5\n",
      "lỗi: 6\n",
      "lỗi: 7\n",
      "lỗi: 8\n",
      "lỗi: 9\n",
      "lỗi: 10\n",
      "lỗi: 11\n",
      "lỗi: 12\n",
      "lỗi: 13\n",
      "lỗi: 14\n",
      "lỗi: 15\n",
      "lỗi: 16\n",
      "lỗi: 17\n",
      "lỗi: 18\n",
      "lỗi: 19\n",
      "lỗi: 20\n",
      "lỗi: 21\n",
      "lỗi: 22\n",
      "lỗi: 23\n",
      "lỗi: 24\n",
      "lỗi: 25\n"
     ]
    }
   ],
   "source": [
    "ds_LapTop_Add_Duoc = []\n",
    "ds_LapTop_Add_Khong_Duoc =[]\n",
    "count  =0\n",
    "for i in link_San_Pham:\n",
    "    try:\n",
    "        driver.get(i)\n",
    "        sleep(2)\n",
    "        tinh_nang_LapTop = driver.find_element(By.CLASS_NAME, \"st-pd-table\").text\n",
    "        ten_LapTop = driver.find_element(By.CLASS_NAME, \"st-name\").text\n",
    "        gia_Laptop = driver.find_element(By.CLASS_NAME,\"st-price-main\").text.replace(\"₫\",\"\")\n",
    "        ts_Laptop = lay_Tinh_Nang_Laptop(tinh_nang_LapTop,ten_LapTop, gia_Laptop)\n",
    "        ds_LapTop_Add_Duoc.append(ts_Laptop)\n",
    "    except:\n",
    "        ds_LapTop_Add_Khong_Duoc.append(i)\n",
    "        count+=1\n",
    "        print(\"lỗi:\",count)\n",
    "        continue\n",
    "    sleep(1)"
   ]
  },
  {
   "cell_type": "code",
   "execution_count": 41,
   "metadata": {},
   "outputs": [
    {
     "name": "stdout",
     "output_type": "stream",
     "text": [
      "lỗi: 1\n",
      "lỗi: 2\n",
      "lỗi: 3\n",
      "lỗi: 4\n",
      "lỗi: 5\n",
      "lỗi: 6\n",
      "lỗi: 7\n",
      "lỗi: 8\n",
      "lỗi: 9\n",
      "lỗi: 10\n",
      "lỗi: 11\n",
      "lỗi: 12\n",
      "lỗi: 13\n",
      "lỗi: 14\n",
      "lỗi: 15\n",
      "lỗi: 16\n",
      "lỗi: 17\n",
      "lỗi: 18\n",
      "lỗi: 19\n",
      "lỗi: 20\n",
      "lỗi: 21\n",
      "lỗi: 22\n",
      "lỗi: 23\n",
      "lỗi: 24\n",
      "lỗi: 25\n",
      "lỗi: 26\n",
      "lỗi: 27\n",
      "lỗi: 28\n",
      "lỗi: 29\n",
      "lỗi: 30\n",
      "lỗi: 31\n",
      "lỗi: 32\n",
      "lỗi: 33\n"
     ]
    },
    {
     "name": "stdout",
     "output_type": "stream",
     "text": [
      "lỗi: 34\n"
     ]
    }
   ],
   "source": [
    "count  =0\n",
    "for i in ds_LapTop_Add_Khong_Duoc:\n",
    "    try:\n",
    "        driver.get(i)\n",
    "        sleep(2)\n",
    "        tinh_nang_LapTop = driver.find_element(By.CLASS_NAME, \"st-pd-table\").text\n",
    "        ten_LapTop = driver.find_element(By.CLASS_NAME, \"st-name\").text\n",
    "        gia_Laptop = driver.find_element(By.CLASS_NAME,\"st-price-main\").text.replace(\"₫\",\"\")\n",
    "        ts_Laptop = lay_Tinh_Nang_Laptop(tinh_nang_LapTop,ten_LapTop, gia_Laptop)\n",
    "        ds_LapTop_Add_Duoc.append(ts_Laptop)\n",
    "    except:\n",
    "        ds_LapTop_Add_Khong_Duoc.append(i)\n",
    "        count+=1\n",
    "        print(\"lỗi:\",count)\n",
    "        continue\n",
    "    sleep(1)"
   ]
  },
  {
   "cell_type": "code",
   "execution_count": 1,
   "metadata": {},
   "outputs": [
    {
     "ename": "NameError",
     "evalue": "name 'ds_LapTop_Add_Khong_Duoc' is not defined",
     "output_type": "error",
     "traceback": [
      "\u001b[1;31m---------------------------------------------------------------------------\u001b[0m",
      "\u001b[1;31mNameError\u001b[0m                                 Traceback (most recent call last)",
      "\u001b[1;32m~\\AppData\\Local\\Temp\\ipykernel_38248\\1452653704.py\u001b[0m in \u001b[0;36m<module>\u001b[1;34m\u001b[0m\n\u001b[0;32m      1\u001b[0m \u001b[1;31m#Phương án 1\u001b[0m\u001b[1;33m\u001b[0m\u001b[1;33m\u001b[0m\u001b[0m\n\u001b[1;32m----> 2\u001b[1;33m \u001b[0mprint\u001b[0m\u001b[1;33m(\u001b[0m\u001b[1;34m\"Số lương máy không lấy được:\"\u001b[0m\u001b[1;33m,\u001b[0m\u001b[0mlen\u001b[0m\u001b[1;33m(\u001b[0m\u001b[0mds_LapTop_Add_Khong_Duoc\u001b[0m\u001b[1;33m)\u001b[0m\u001b[1;33m)\u001b[0m\u001b[1;33m\u001b[0m\u001b[1;33m\u001b[0m\u001b[0m\n\u001b[0m\u001b[0;32m      3\u001b[0m \u001b[1;32mwith\u001b[0m \u001b[0mopen\u001b[0m\u001b[1;33m(\u001b[0m\u001b[1;34m\"thong_Tin_Laptop_FPT_TESTT.csv\"\u001b[0m\u001b[1;33m,\u001b[0m \u001b[1;34m\"w\"\u001b[0m\u001b[1;33m,\u001b[0m \u001b[0mencoding\u001b[0m\u001b[1;33m=\u001b[0m\u001b[1;34m\"utf-8\"\u001b[0m\u001b[1;33m)\u001b[0m \u001b[1;32mas\u001b[0m \u001b[0mlaptop\u001b[0m\u001b[1;33m:\u001b[0m\u001b[1;33m\u001b[0m\u001b[1;33m\u001b[0m\u001b[0m\n\u001b[0;32m      4\u001b[0m         headers = ['TenLaptop',\"GiaLaptop\",'inch','DoPhanGiai','LoaiManHinh',\n\u001b[0;32m      5\u001b[0m                    \u001b[1;34m'KhacMH'\u001b[0m\u001b[1;33m,\u001b[0m\u001b[1;34m'HangCPU'\u001b[0m\u001b[1;33m,\u001b[0m \u001b[1;34m'DongCPU'\u001b[0m\u001b[1;33m,\u001b[0m\u001b[1;33m\u001b[0m\u001b[1;33m\u001b[0m\u001b[0m\n",
      "\u001b[1;31mNameError\u001b[0m: name 'ds_LapTop_Add_Khong_Duoc' is not defined"
     ]
    }
   ],
   "source": [
    "#Phương án 1\n",
    "print(\"Số lương máy không lấy được:\",len(ds_LapTop_Add_Khong_Duoc))\n",
    "with open(\"thong_Tin_Laptop_FPT_TESTT.csv\", \"w\", encoding=\"utf-8\") as laptop:\n",
    "        headers = ['TenLaptop',\"GiaLaptop\",'inch','DoPhanGiai','LoaiManHinh',\n",
    "                   'KhacMH','HangCPU', 'DongCPU',\n",
    "                  'DoiCPU','DungLuongRAM','LoaiRAM','BusRAM', 'OCung', \n",
    "                   'CardDoHoa','HDH','TrongLuong', 'XuatXu','NoiMua']\n",
    "        writer = csv.writer(laptop, delimiter=\",\")\n",
    "        writer.writerow(headers)\n",
    "        for i in ds_LapTop_Add_Duoc:\n",
    "            \n",
    "            writer.writerow([i[0],i[1],i[2][0],i[2][1],i[2][2],\",\".join(i[2][3]),i[3][0],\n",
    "                            i[3][1],i[3][2],i[4][0],i[4][1],i[4][2],i[5],\n",
    "                            i[6],i[7],i[8],i[9],i[10]])\n",
    "print(\"WRITE TO FILE\")"
   ]
  }
 ],
 "metadata": {
  "kernelspec": {
   "display_name": "Python 3 (ipykernel)",
   "language": "python",
   "name": "python3"
  },
  "language_info": {
   "codemirror_mode": {
    "name": "ipython",
    "version": 3
   },
   "file_extension": ".py",
   "mimetype": "text/x-python",
   "name": "python",
   "nbconvert_exporter": "python",
   "pygments_lexer": "ipython3",
   "version": "3.9.13"
  },
  "vscode": {
   "interpreter": {
    "hash": "0deb82a48c7ffdd5d862474b7ab850f3dfa66d3cd8d4e58ef740c10ba98c4c13"
   }
  }
 },
 "nbformat": 4,
 "nbformat_minor": 2
}
